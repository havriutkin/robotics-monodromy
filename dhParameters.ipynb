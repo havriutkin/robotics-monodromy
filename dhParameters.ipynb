{
 "cells": [
  {
   "cell_type": "markdown",
   "id": "d80e6f0b",
   "metadata": {},
   "source": [
    "# File with set of DH parameters"
   ]
  },
  {
   "cell_type": "markdown",
   "id": "f79dd987",
   "metadata": {},
   "source": [
    "## Put dh parameters in table and provide code for m2"
   ]
  },
  {
   "cell_type": "markdown",
   "id": "559d67e9",
   "metadata": {},
   "source": [
    "### Kuka KR-15/2"
   ]
  },
  {
   "cell_type": "markdown",
   "id": "a9078d9f",
   "metadata": {},
   "source": [
    "| i | r | d | alpha | theta |\n",
    "|---|---|---|-------|-------|\n",
    "| 1 |0.3|0.675|90.0|0.0|\n",
    "| 2 |0.65|0.0|0.0|-90.0|\n",
    "| 3 |0.155|0.0|90.0|0.0|\n",
    "| 4 |0.0|0.6|-90.0|0.0|\n",
    "| 5 |0.0|0.0|90.0|0.0|\n",
    "| 6 |0.0|0.140|0.0|0.0|"
   ]
  },
  {
   "cell_type": "code",
   "execution_count": null,
   "id": "6a1fb1ab",
   "metadata": {},
   "outputs": [],
   "source": [
    "dof := 6;\n",
    "alpha = {90.0, 0.0, 90.0, -90.0, 90.0, 0.0};\n",
    "r = {0.3, 0.65, 0.155, 0.0, 0.0, 0.0};\n",
    "d = {0.675, 0.0, 0.0, 0.0, 0.0, 0.140};\n",
    "dhParams := {alpha, r, d, theta};"
   ]
  },
  {
   "cell_type": "code",
   "execution_count": null,
   "id": "837d6e42",
   "metadata": {},
   "outputs": [],
   "source": []
  }
 ],
 "metadata": {
  "kernelspec": {
   "display_name": "M2",
   "language": "text/x-macaulay2",
   "name": "m2"
  },
  "language_info": {
   "codemirror_mode": "macaulay2",
   "file_extension": ".m2",
   "mimetype": "text/x-macaulay2",
   "name": "Macaulay2"
  }
 },
 "nbformat": 4,
 "nbformat_minor": 5
}
